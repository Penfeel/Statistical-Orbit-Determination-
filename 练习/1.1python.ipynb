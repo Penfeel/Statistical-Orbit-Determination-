{
 "cells": [
  {
   "cell_type": "code",
   "execution_count": 6,
   "id": "61476885",
   "metadata": {},
   "outputs": [],
   "source": [
    "import numpy as np\n",
    "from numpy.linalg import solve\n",
    "import matplotlib.pyplot as plt\n",
    "from matplotlib import animation\n",
    "from math import sqrt\n",
    "from scipy import special"
   ]
  },
  {
   "cell_type": "code",
   "execution_count": 7,
   "id": "7e6b5b19",
   "metadata": {},
   "outputs": [],
   "source": [
    "# Initial guess of orbit state vector values\n",
    "# X0,Y0 coordinates of satellite (X horizontal, Y vertical, assuming flat earth lol)\n",
    "# Xdot0,Ydot0 instantaneous velocities \n",
    "# g is acceleration along Y axis \n",
    "# Xs, Ys are global varaibles describing radar station coordinates (not to be solved for)\n",
    "[X0, Y0, Xdot0, Ydot0, g, Xs, Ys] = [1.5, 10.0, 2.2, 0.5, 0.3, 1.0, 1.0]\n",
    "\n",
    "# Observation times, ranges \n",
    "# Stored as column vectors\n",
    "obs_times = np.array([0,1,2,3,4]).T\n",
    "obs_rhos = np.array( [7.0, 8.00390597, 8.94427191, 9.801147892, 10.630145813] ).T\n",
    "\n",
    "# Given answer, to check convergence. Also store as column vector\n",
    "# [X0, Y0, Xdot0, Ydot0, g] \n",
    "state_true = np.array( [1.0, 8.0, 2.0, 1.0, 0.5] ).T"
   ]
  },
  {
   "cell_type": "code",
   "execution_count": 8,
   "id": "c5b6ed53",
   "metadata": {},
   "outputs": [],
   "source": [
    "\n",
    "def rho_fct(t, state): \n",
    "  # Expression for range (distance from observation point) given position, velocity, time\n",
    "  # Xs and Ys are fixed, global variables for this problem \n",
    "  [X0, Y0, Xdot0, Ydot0, g] = [ state[0], state[1], state[2], state[3], state[4]]\n",
    "  X_part = (X0 - Xs + Xdot0*t)\n",
    "  Y_part = (Y0 - Ys + Ydot0*t - 0.5*g*t**2) \n",
    "  return sqrt( X_part**2 + Y_part**2 )\n",
    "\n",
    "# dJ/dX_0^n (=-dG/dX_0^n) is a 5x5 matrix of derivatives\n",
    "# Rows correspond to each observation (rho1,rho2,...)\n",
    "# Columns correspond to the variable (X0,Y0,...)\n",
    "def drho_dX0(t, state):\n",
    "  [X0, Y0, Xdot0, Ydot0, g] = [ state[0], state[1], state[2], state[3], state[4]]\n",
    "  X_part = (X0 - Xs + Xdot0*t)\n",
    "  Y_part = (Y0 - Ys + Ydot0*t - 0.5*g*t**2) \n",
    "  return X_part / sqrt( X_part**2 + Y_part**2 )\n",
    "\n",
    "def drho_dY0(t, state):\n",
    "  [X0, Y0, Xdot0, Ydot0, g] = [ state[0], state[1], state[2], state[3], state[4]]\n",
    "  X_part = (X0 - Xs + Xdot0*t)\n",
    "  Y_part = (Y0 - Ys + Ydot0*t - 0.5*g*t**2) \n",
    "  return Y_part / sqrt( X_part**2 + Y_part**2 )\n",
    "\n",
    "def drho_dXdot0(t, state):\n",
    "  return t * drho_dX0(t,state) \n",
    "\n",
    "def drho_dYdot0(t, state):\n",
    "  return t * drho_dY0(t,state) \n",
    "\n",
    "def drho_dg(t, state):\n",
    "  return -0.5 * t**2 * drho_dY0(t,state) \n",
    "\n",
    "# J vector difference between observed, current estimated values (following equation 1.2.8)\n",
    "def J_n(state, obs_times, obs_rhos):\n",
    "  # G vector of current estimated rho values given the estimated state vector\n",
    "  G = []\n",
    "  for t in obs_times:\n",
    "    G.append( rho_fct(t, state) )\n",
    "  G = np.array(G).T # Make G a column array to match obs_rhos size \n",
    "  \n",
    "  return obs_rhos - G \n",
    "\n",
    "# dJ_dX is matrix of derivatives of J vector wrt state vector elements \n",
    "def dJ_dX(obs_times, state):\n",
    "  # Create empty nxn array where n is number of state vector elements\n",
    "  dG_dX = np.empty((np.size(state), np.size(state))) \n",
    "  for i,t in enumerate(obs_times):\n",
    "    dG_dX[i,:] = [ drho_dX0(t, state), drho_dY0(t, state), \n",
    "                  drho_dXdot0(t, state), drho_dYdot0(t, state), drho_dg(t, state) ]\n",
    "  return  -dG_dX"
   ]
  },
  {
   "cell_type": "code",
   "execution_count": 13,
   "id": "6febdcdf",
   "metadata": {
    "scrolled": true
   },
   "outputs": [
    {
     "name": "stdout",
     "output_type": "stream",
     "text": [
      "Starting with initial guess state vector  [ 1.5 10.   2.2  0.5  0.3]\n",
      " with initial error (norm of current-true)  2.1400934559032696\n",
      "\n",
      "iteration  1\n",
      "updated state vector =  [0.40201401 8.04401559 2.13210213 1.12212897 0.55642231]\n",
      "\n",
      "iteration  2\n",
      "updated state vector =  [0.94095314 8.0201658  2.01001559 1.00553604 0.50253024]\n",
      "\n",
      "iteration  3\n",
      "updated state vector =  [0.99994979 8.00024718 1.99999576 0.99994462 0.49998612]\n",
      "\n",
      "iteration  4\n",
      "updated state vector =  [1.00007365 8.         1.99998473 0.99998204 0.49999282]\n"
     ]
    }
   ],
   "source": [
    "\n",
    "error_threshold = 1e-4 # Some arbitrary value I picked. \n",
    "max_iterations = 20 # Set some max number of iterations in case error threshold is set too small \n",
    "\n",
    "state_n = np.array([X0,Y0,Xdot0,Ydot0,g]).T # Initial starting guess of the state vector\n",
    "current_error = np.linalg.norm( state_n - state_true )\n",
    "\n",
    "print(\"Starting with initial guess state vector \",state_n)\n",
    "print(\" with initial error (norm of current-true) \",current_error) \n",
    "\n",
    "error_values = []\n",
    "error_values.append(current_error)\n",
    "iter = 0\n",
    "while current_error > error_threshold : \n",
    "  iter += 1\n",
    "  if iter > max_iterations : \n",
    "    print(\"Getting to too many iterations. Consider raising the error threshold.\") \n",
    "    break \n",
    "  print(\"\")\n",
    "  print(\"iteration \",iter)\n",
    "\n",
    "  J = J_n(state_n, obs_times, obs_rhos)\n",
    "\n",
    "  dJ_dX_inv = np.linalg.inv( dJ_dX( obs_times, state_n )) # Inverse of dJ/dX matrix\n",
    "  state_n_plus_1 =  state_n - np.dot( dJ_dX_inv, J)\n",
    "  state_n = state_n_plus_1 # Update the state guess for next iteration\n",
    "\n",
    "  current_error = np.linalg.norm( state_n - state_true ) # Calculate updated error \n",
    "  error_values.append(current_error) # Store error value for plotting \n",
    " \n",
    "  print(\"updated state vector = \",state_n_plus_1)"
   ]
  },
  {
   "cell_type": "code",
   "execution_count": 10,
   "id": "ac3f497c",
   "metadata": {
    "scrolled": true
   },
   "outputs": [
    {
     "data": {
      "image/png": "[encoded data removed]",
      "text/plain": [
       "<Figure size 432x288 with 1 Axes>"
      ]
     },
     "metadata": {
      "needs_background": "light"
     },
     "output_type": "display_data"
    }
   ],
   "source": [
    "fig, ax = plt.subplots()\n",
    "ax.plot( np.arange(0,iter+1), error_values )\n",
    "ax.plot( np.array([0, iter]), error_threshold*np.array([1,1]), \"r--\" )\n",
    "\n",
    "plt.xlabel(\" Iteration \")\n",
    "plt.ylabel(\" Error (norm of difference) \")\n",
    "plt.title(\" Orbit state vector convergence \");\n",
    "plt.show()"
   ]
  },
  {
   "cell_type": "code",
   "execution_count": null,
   "id": "4c0ac477",
   "metadata": {},
   "outputs": [],
   "source": []
  },
  {
   "cell_type": "code",
   "execution_count": null,
   "id": "2140fc47",
   "metadata": {},
   "outputs": [],
   "source": []
  }
 ],
 "metadata": {
  "kernelspec": {
   "display_name": "Python 3 (ipykernel)",
   "language": "python",
   "name": "python3"
  },
  "language_info": {
   "codemirror_mode": {
    "name": "ipython",
    "version": 3
   },
   "file_extension": ".py",
   "mimetype": "text/x-python",
   "name": "python",
   "nbconvert_exporter": "python",
   "pygments_lexer": "ipython3",
   "version": "3.9.7"
  }
 },
 "nbformat": 4,
 "nbformat_minor": 5
}
